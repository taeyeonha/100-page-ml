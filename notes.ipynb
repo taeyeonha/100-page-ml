{
 "cells": [
  {
   "cell_type": "markdown",
   "id": "718fd1fc",
   "metadata": {},
   "source": [
    "# Preface\n",
    "\n",
    "\"Machine Learning\" is not actually a real thing. It is a marketing scheme to try and make it sound attracting for clients and talented employees.\n",
    "\n",
    "In reality, they don't actually \"learn\", but rather they try to find a MATHEMATICAL FORMULA that, when applied to the inputs, produces the desired outputs. This also generates the correct outputs for inputs (distinct from the training data) on the condition that they come from the same or similar statistical distribution. \n",
    "\n",
    "Machines don't actually \"learn\" because if you change the input even slightly, it likely produces very different outputs. For example, if you learned to play a video game looking straight at the screen, and you rotate the screen slightly, you would still be relatively good at the game. A machine learning algorithm trained looking straight at the screen will fail to play the game on a rotated screen.\n",
    "\n",
    "So in conclusion, like artificial intelligence isn't actually intelligence, machine learning isn't actually learning. It is just a way to build machines that are able to do a variety of things without being explicitly programmed to do so."
   ]
  },
  {
   "cell_type": "markdown",
   "id": "5ccb2f23",
   "metadata": {},
   "source": [
    "# Who This Book is For\n",
    "\n",
    "We can use this book to begin brainstorming at the beginning of a project, or trying to answer the question whether a given problem is \"machine-learnable\", and if yes, which techniques you should try to solve it."
   ]
  },
  {
   "cell_type": "markdown",
   "id": "e47d3830",
   "metadata": {},
   "source": [
    "# How to Use This Book\n",
    "\n",
    "Just read it end to end"
   ]
  },
  {
   "cell_type": "markdown",
   "id": "bbb3330a",
   "metadata": {},
   "source": [
    "# 1 Introduction\n",
    "\n",
    "## 1.1 What is Machine Learning\n",
    "Machine learning is taking some sort of data (either from nature, man-made, or from another computer algorithm) and use it to build algorithms.\n",
    "\n",
    "In other words, it 1. gathers a dataset 2. builds a statistical model using the dataset with algorithms.\n",
    "\n",
    "\n",
    "## 1.2 Types of Learning\n",
    "Learning can be supervised, unsupervised, semi-supervised, and reinforcement. Good blog about the differences of each learning method and terms: https://toloka.ai/blog/machine-learning-labels-and-features/\n",
    "\n",
    "### 1.2.1 Supervised Learning \n",
    "Supervised learning consists of a dataset with a collection of **LABELED EXAMPLES** {(xi, yi)}N, i=1. The first element \"xi\" (x with subscript i) from i=1 to N is called a **FEATURE VECTOR** (like a vector from linear algebra). It is called a vector because it consists of individual values (dimensions) from j=1 to M that hold some sort of information (x^j). For example, the feature vector x2 can be a random person, and x^3 can be their height, x^4 can be their age, etc.\n",
    "\n",
    "Ex. xi = [x^1, x^2, x^3, ... , x^M] where each x^j is a specific value of xi.\n",
    "\n",
    "The feature at position j in each feature vector ALWAYS holds the same information. This means that if xi^2 contains information about weight, xk^2 will also hold information about weight.\n",
    "\n",
    "The other element yi is called the **LABEL**. This is the ground truth value of the predicted value from the xi feature, aka expected value. This label is usually a an element in a finite set of **CLASSES** {dog, cat, ..., etc.} in a classification problem, or a real number in a regression problem. It can also be a tree, graph, vector, or anything the problem requires. A class is a category that the output fits into. For example, if the feature vector contained a pixelated image of a dog, the label would be \"dog\".\n",
    "\n",
    "** The terms label and target are often used interchangeably. The term label is usually used for classification problems, and target is used for regression problems (read blog for more in depth explanation)\n",
    "\n",
    "### 1.2.2 Unsupervised Learning\n",
    "In unsupervised learning, the dataset is a collection of **UNLABELED EXAMPLES** {(xi)}N, i=1. This is less common than supervised learning, but has many applications like spam email filtering. It does not require a training dataset, and rather it just tries to find patterns between the input features. For example, in **clustering** it tries to group features into their own clusters with similar \"features\" and returns the id of the cluster for each feature vector. In **dimensionality reduction**, the output is a feature vector that has fewer features than the input x by combining multiple, similar features.\n",
    "\n",
    "### 1.2.3 Semi-Supervised Learning\n",
    "Like the name suggests, it combines supervised and unsupervised learning and uses both labeled and unlabeled data, but the dataset usually contains way more UNlabeled data. The goal is the same as supervised learning, but the hope is that unlabeled data can help the learning algorithm find a better model.\n",
    "\n",
    "### 1.2.4 Reinforcement Learning\n",
    "Reinforcement learning is where the machine \"lives\" in an environment and is able to perceive the \"state\" of that environment. The machine can perform different **actions** in every state. Depending on the action, the machine is rewarded differently, and could also move it to different states. The ultimate goal is to teach it a **policy**, which is a function f that takes the input features and outputs the most optimal action for that state. The action is considered optimal if it maximizes the **expected average reward**.\n",
    "\n",
    "In general, reinforcement learning is for problems with sequential decisions, and the goal is long-term, including things like chess, strategic computer games, etc."
   ]
  },
  {
   "cell_type": "markdown",
   "id": "1b0efcd7",
   "metadata": {},
   "source": []
  }
 ],
 "metadata": {
  "kernelspec": {
   "display_name": ".venv",
   "language": "python",
   "name": "python3"
  },
  "language_info": {
   "name": "python",
   "version": "3.12.3"
  }
 },
 "nbformat": 4,
 "nbformat_minor": 5
}
