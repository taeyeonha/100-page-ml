{
 "cells": [
  {
   "cell_type": "markdown",
   "id": "718fd1fc",
   "metadata": {},
   "source": [
    "# Preface\n",
    "\n",
    "\"Machine Learning\" is not actually a real thing. It is a marketing scheme to try and make it sound attracting for clients and talented employees.\n",
    "\n",
    "In reality, they don't actually \"learn\", but rather they try to find a MATHEMATICAL FORMULA that, when applied to the inputs, produces the desired outputs. This also generates the correct outputs for inputs (distinct from the training data) on the condition that they come from the same or similar statistical distribution. \n",
    "\n",
    "Machines don't actually \"learn\" because if you change the input even slightly, it likely produces very different outputs. For example, if you learned to play a video game looking straight at the screen, and you rotate the screen slightly, you would still be relatively good at the game. A machine learning algorithm trained looking straight at the screen will fail to play the game on a rotated screen.\n",
    "\n",
    "So in conclusion, like artificial intelligence isn't actually intelligence, machine learning isn't actually learning. It is just a way to build machines that are able to do a variety of things without being explicitly programmed to do so."
   ]
  }
 ],
 "metadata": {
  "kernelspec": {
   "display_name": ".venv",
   "language": "python",
   "name": "python3"
  },
  "language_info": {
   "name": "python",
   "version": "3.12.3"
  }
 },
 "nbformat": 4,
 "nbformat_minor": 5
}
